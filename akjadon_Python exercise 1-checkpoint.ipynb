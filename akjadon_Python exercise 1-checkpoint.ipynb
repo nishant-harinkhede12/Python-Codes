{
 "cells": [
  {
   "cell_type": "code",
   "execution_count": 6,
   "metadata": {},
   "outputs": [
    {
     "name": "stdout",
     "output_type": "stream",
     "text": [
      "5\n",
      "10\n"
     ]
    }
   ],
   "source": [
    "\"\"\"Define a function max() that takes two numbers as arguments \n",
    "and returns the largest of them. Use the if-then-else construct \n",
    "available in Python. (It is true that Python has the max() function \n",
    "  built in, but writing it yourself is nevertheless a good exercise.)\"\"\"\n",
    "\n",
    "def max(num1, num2):\n",
    "    if num1 > num2:\n",
    "        return num1\n",
    "    else:\n",
    "        return num2\n",
    "\n",
    "#test\n",
    "print(max(3,5))\n",
    "print(max(10,6))"
   ]
  },
  {
   "cell_type": "code",
   "execution_count": 10,
   "metadata": {},
   "outputs": [
    {
     "name": "stdout",
     "output_type": "stream",
     "text": [
      "False\n",
      "True\n",
      "False\n",
      "True\n"
     ]
    }
   ],
   "source": [
    "\n",
    "\"\"\"Define a function overlapping() that takes two lists and \n",
    "returns True if they have at least one member in common, \n",
    "False otherwise. You may use your is_member() function, \n",
    "or the in operator, but for the sake of the exercise, \n",
    "you should (also) write it using two nested for-loops.\"\"\"\n",
    "\n",
    "def overlapping(lst1, lst2):\n",
    "  for i in lst1:\n",
    "    for j in lst2:\n",
    "      if i == j:\n",
    "        return True\n",
    "  return False\n",
    "\n",
    "#test\n",
    "print(overlapping(['nope', 'nothing', 'in'], ['common']))\n",
    "print(overlapping(['this', 'might', 'work'], ['or', 'maybe', 'this']))\n",
    "print(overlapping(['I', 'think', 'I am', 19], ['19', 'kids']))\n",
    "print(overlapping([1,2,3,4,5], [9,8,7,6,5]))"
   ]
  },
  {
   "cell_type": "code",
   "execution_count": 23,
   "metadata": {},
   "outputs": [
    {
     "name": "stdout",
     "output_type": "stream",
     "text": [
      "xxxxx\n",
      "* * * * * * * * * * \n",
      "HelloHello\n"
     ]
    }
   ],
   "source": [
    "  \n",
    "\"\"\"Define a function generate_n_chars() that takes an \n",
    "integer n and a character c and returns a string, n \n",
    "characters long, consisting only of c:s. For example, \n",
    "generate_n_chars(5,\"x\") should return the string \"xxxxx\". \n",
    "(Python is unusual in that you can actually write an expression 5 * \"x\" \n",
    "that will evaluate to \"xxxxx\". For the sake of the exercise you should \n",
    "ignore that the problem can be solved in this manner.)\"\"\"\n",
    "\n",
    "def generate_n_chars(n, str):\n",
    "    result = \"\"\n",
    "    for x in range(n):\n",
    "        result += str\n",
    "    return result\n",
    "\n",
    "#test\n",
    "print (generate_n_chars(5, \"x\"))\n",
    "print (generate_n_chars(10, \"* \"))\n",
    "print (generate_n_chars(2, \"Hello\"))"
   ]
  },
  {
   "cell_type": "code",
   "execution_count": 27,
   "metadata": {},
   "outputs": [
    {
     "name": "stdout",
     "output_type": "stream",
     "text": [
      "$$$$\n",
      "$$$$$$$$$\n",
      "$$$$$$$\n",
      "----------\n",
      "$$$$$\n",
      "$$$$$$\n",
      "$$$$$$$$\n",
      "----------\n",
      "$$$$$$$$$$\n",
      "$$$$$$$$\n",
      "$$$$$$$$$$$$$$$$$$$\n",
      "----------\n"
     ]
    }
   ],
   "source": [
    "  \n",
    "\"\"\"Define a procedure histogram() that takes a list of \n",
    "integers and prints a histogram to the screen. For example, \n",
    "histogram([4, 9, 7]) should print the following:\n",
    "****\n",
    "*********\n",
    "*******\n",
    "\"\"\"\n",
    "\n",
    "def histogram(lst):\n",
    "  for n in lst:\n",
    "    print (n * \"$\")\n",
    "  print (10 * \"-\") # Just to add some space between each test\n",
    "\n",
    "#test\n",
    "histogram([4,9,7])\n",
    "histogram([5,6,8])\n",
    "histogram([10,8,19])"
   ]
  },
  {
   "cell_type": "code",
   "execution_count": 29,
   "metadata": {},
   "outputs": [
    {
     "name": "stdout",
     "output_type": "stream",
     "text": [
      "10\n",
      "290\n",
      "19\n"
     ]
    }
   ],
   "source": [
    "\"\"\"The function max() from exercise 1) and the function \n",
    "max_of_three() from exercise 2) will only work for two \n",
    "and three numbers, respectively. But suppose we have a \n",
    "much larger number of numbers, or suppose we cannot tell \n",
    "in advance how many they are? Write a function max_in_list() \n",
    "that takes a list of numbers and returns the largest one.\"\"\"\n",
    "\n",
    "def max_in_list(lst):\n",
    "  max = 0\n",
    "  for n in lst:\n",
    "    if n > max:\n",
    "      max = n\n",
    "  return max\n",
    "\n",
    "#test\n",
    "print (max_in_list([2,3,4,5,6,7,8,8,9,10]))\n",
    "print (max_in_list([290,2,3,4]))\n",
    "print (max_in_list([9,2,3,4,19]))"
   ]
  },
  {
   "cell_type": "code",
   "execution_count": 31,
   "metadata": {},
   "outputs": [
    {
     "name": "stdout",
     "output_type": "stream",
     "text": [
      "[5, 6]\n",
      "[6, 2, 8]\n",
      "[3, 4, 2, 4]\n"
     ]
    }
   ],
   "source": [
    "  \n",
    "\"\"\"Write a program that maps a list of words into a list \n",
    "of integers representing the lengths of the correponding words.\"\"\"\n",
    "\n",
    "def words_length(lst):\n",
    "  lenlist = [len(i) for i in lst]\n",
    "  return lenlist\n",
    "\n",
    "#test\n",
    "print (words_length(['Hello', 'world!']))\n",
    "print (words_length(['Python', 'is', 'awesome!']))\n",
    "print (words_length(['You', 'said', 'it', 'bro!']))"
   ]
  },
  {
   "cell_type": "code",
   "execution_count": 32,
   "metadata": {},
   "outputs": [
    {
     "name": "stdout",
     "output_type": "stream",
     "text": [
      "6\n",
      "5\n",
      "5\n"
     ]
    }
   ],
   "source": [
    "  \n",
    "\"\"\" Write a function find_longest_word() that takes \n",
    "a list of words and returns the length of the longest one.\"\"\"\n",
    "\n",
    "def find_longest_word(lst):\n",
    "  longest = \"\"\n",
    "  for w in lst:\n",
    "    if len(w) > len(longest):\n",
    "      longest = w\n",
    "  return len(longest)\n",
    "\n",
    "#test\n",
    "print (find_longest_word(['hello', 'world', 'Python']))\n",
    "print (find_longest_word(['Live', 'laugh', 'love']))\n",
    "print (find_longest_word(['I', 'found', 'Haiti']))"
   ]
  },
  {
   "cell_type": "code",
   "execution_count": 38,
   "metadata": {},
   "outputs": [
    {
     "name": "stdout",
     "output_type": "stream",
     "text": [
      "['Pythonistas!']\n",
      "['Python', 'stole', 'heart']\n",
      "['This', 'will', 'cool']\n"
     ]
    }
   ],
   "source": [
    "\"\"\"Write a function filter_long_words() that takes a list \n",
    "of words and an integer n and returns the list of words that \n",
    "are longer than n.\"\"\"\n",
    "\n",
    "def filter_long_words(lst, n):\n",
    "  return [w for w in lst if len(w) > n]\n",
    "\n",
    "#test\n",
    "print (filter_long_words(['Hello', 'world', 'Haiti', 'Pythonistas!'], 5))\n",
    "print (filter_long_words(['Python', 'stole', 'my', 'heart'], 4))\n",
    "print (filter_long_words(['This', 'will', 'be', 'cool'], 3))"
   ]
  },
  {
   "cell_type": "code",
   "execution_count": 37,
   "metadata": {},
   "outputs": [
    {
     "name": "stdout",
     "output_type": "stream",
     "text": [
      "True\n",
      "True\n",
      "True\n",
      "True\n",
      "True\n",
      "True\n",
      "True\n",
      "True\n",
      "True\n",
      "False\n"
     ]
    }
   ],
   "source": [
    "  \n",
    "\"\"\"Write a version of a palindrome recognizer that also accepts \n",
    "phrase palindromes such as \"Go hang a salami I'm a lasagna hog.\", \n",
    "\"Was it a rat I saw?\", \"Step on no pets\", \"Sit on a potato pan, Otis\", \n",
    "\"Lisa Bonet ate no basil\", \"Satan, oscillate my metallic sonatas\", \n",
    "\"I roamed under it as a tired nude Maori\", \"Rise to vote sir\", or \n",
    "the exclamation \"Dammit, I'm mad!\". Note that punctuation, capitalization, \n",
    "and spacing are usually ignored.\"\"\"\n",
    "\n",
    "import string\n",
    "\n",
    "ignored = string.punctuation + \" \"\n",
    "\n",
    "def is_palindrome(str):\n",
    "  cleanstr = \"\"\n",
    "  for i in str:\n",
    "    cleanstr += \"\" if i in ignored else i # I love Python ternary operator\n",
    "\n",
    "  return cleanstr.lower() == cleanstr[::-1].lower()\n",
    "\n",
    "#test\n",
    "print (is_palindrome(\"Go hang a salami I'm a lasagna hog.\"))\n",
    "print (is_palindrome(\"Was it a rat I saw?\"))\n",
    "print (is_palindrome(\"Step on no pets\"))\n",
    "print (is_palindrome(\"Sit on a potato pan, Otis!\"))\n",
    "print (is_palindrome(\"Lisa Bonet ate no basil\"))\n",
    "print (is_palindrome(\"Satan, oscillate my metallic sonatas\"))\n",
    "print (is_palindrome(\"I roamed under it as a tired nude Maori\"))\n",
    "print (is_palindrome(\"Rise to vote sir\"))\n",
    "print (is_palindrome(\"Dammit, I'm mad!\"))\n",
    "print (is_palindrome(\"This is not a palindrome\"))"
   ]
  },
  {
   "cell_type": "code",
   "execution_count": 39,
   "metadata": {},
   "outputs": [
    {
     "name": "stdout",
     "output_type": "stream",
     "text": [
      "True\n",
      "False\n"
     ]
    }
   ],
   "source": [
    "\"\"\"A pangram is a sentence that contains all the letters \n",
    "of the English alphabet at least once, for example: The \n",
    "quick brown fox jumps over the lazy dog. Your task here is \n",
    "to write a function to check a sentence to see if it is a \n",
    "pangram or not.\"\"\"\n",
    "\n",
    "import string\n",
    "\n",
    "alpha = string.ascii_lowercase\n",
    "\n",
    "def is_pangram(str):\n",
    "  found = []\n",
    "  for c in str.lower():\n",
    "    if c in alpha and c not in found:\n",
    "      found.append(c)\n",
    "  if len(found) == len(alpha):\n",
    "    return True\n",
    "  else:\n",
    "    return False\n",
    "\n",
    "#test\n",
    "print (is_pangram(\"The quick brown fox jumps over the lazy dog.\"))\n",
    "print (is_pangram(\"Obviously not a pangram\"))"
   ]
  },
  {
   "cell_type": "code",
   "execution_count": 41,
   "metadata": {},
   "outputs": [
    {
     "ename": "SyntaxError",
     "evalue": "invalid syntax (<ipython-input-41-f8bcad18343e>, line 15)",
     "output_type": "error",
     "traceback": [
      "\u001b[1;36m  File \u001b[1;32m\"<ipython-input-41-f8bcad18343e>\"\u001b[1;36m, line \u001b[1;32m15\u001b[0m\n\u001b[1;33m    Take one down, pass it around, %(lb)d %(lbo)s of beer on the wall.\"\"\" % \\\u001b[0m\n\u001b[1;37m          ^\u001b[0m\n\u001b[1;31mSyntaxError\u001b[0m\u001b[1;31m:\u001b[0m invalid syntax\n"
     ]
    }
   ],
   "source": [
    "  \n",
    "\"\"\"99 Bottles of Beer\" is a traditional song in the United States and \n",
    "Canada. It is popular to sing on long trips, as it has a very repetitive \n",
    "format which is easy to memorize, and can take a long time to sing. \n",
    "The song's simple lyrics are as follows:\n",
    "99 bottles of beer on the wall, 99 bottles of beer.\n",
    "Take one down, pass it around, 98 bottles of beer on the wall.\n",
    "The same verse is repeated, each time with one fewer bottle. \n",
    "The song is completed when the singer or singers reach zero.\n",
    "Your task here is write a Python program capable of generating \n",
    "all the verses of the song.\"\"\"\n",
    "\n",
    "i = 99\n",
    "while i > 0:\n",
    "  print \"\"\"%(b)d %(bo)s of beer on the wall, %(b)d %(bo)s of beer.\n",
    "  Take one down, pass it around, %(lb)d %(lbo)s of beer on the wall.\"\"\" % \\\n",
    "  {'b': i, 'lb': i-1, 'bo': 'bottle' if i == 1 else 'bottles', 'lbo': 'bottle' \\\n",
    "  if i == 2 else 'bottles' }\n",
    "  i -= 1"
   ]
  },
  {
   "cell_type": "code",
   "execution_count": 42,
   "metadata": {},
   "outputs": [
    {
     "name": "stdout",
     "output_type": "stream",
     "text": [
      "4\n",
      "4\n",
      "4\n"
     ]
    }
   ],
   "source": [
    "\"\"\"Define a function max_of_three() that takes three \n",
    "numbers as arguments and returns the largest of them.\"\"\"\n",
    "\n",
    "def max_of_three(num1, num2, num3):\n",
    "  if num1 > num2 > num3:\n",
    "    return num1\n",
    "  elif num1 < num2 < num3:\n",
    "    return num3\n",
    "  else: return num2\n",
    "\n",
    "#test\n",
    "print (max_of_three(2, 3, 4))\n",
    "print (max_of_three(4, 3, 2))\n",
    "print (max_of_three(2, 4, 3))"
   ]
  },
  {
   "cell_type": "code",
   "execution_count": 44,
   "metadata": {},
   "outputs": [
    {
     "name": "stdout",
     "output_type": "stream",
     "text": [
      "['god', 'jul', 'och', 'gott', 'nytt', 'ar']\n"
     ]
    }
   ],
   "source": [
    "\n",
    "\"\"\"Represent a small bilingual lexicon as a Python dictionary in the \n",
    "following fashion {\"merry\":\"god\", \"christmas\":\"jul\", \"and\":\"och\", \n",
    "\"happy\":gott\", \"new\":\"nytt\", \"year\":\"ar\"} and use it to translate \n",
    "your Christmas cards from English into Swedish. That is, write a \n",
    "function translate() that takes a list of English words and returns \n",
    "a list of Swedish words.\"\"\"\n",
    "\n",
    "dictionary = {\"merry\":\"god\", \"christmas\":\"jul\", \"and\":\"och\", \n",
    "\"happy\":\"gott\", \"new\":\"nytt\", \"year\":\"ar\"}\n",
    "\n",
    "def translate(lst):\n",
    "  return [dictionary[w.lower()] for w in lst if w.lower() in dictionary]\n",
    "\n",
    "#test\n",
    "print (translate(['Merry', 'christmas', 'and', 'happy', 'new', 'year', 'mom']))"
   ]
  },
  {
   "cell_type": "code",
   "execution_count": 2,
   "metadata": {},
   "outputs": [
    {
     "name": "stdout",
     "output_type": "stream",
     "text": [
      "{'a': 7, 'b': 14, 'c': 3, 'd': 3}\n",
      "{'h': 1, 'e': 1, 'l': 2, 'o': 1}\n"
     ]
    }
   ],
   "source": [
    "def char_freq(str):\n",
    "  freq = {}\n",
    "  for c in str:\n",
    "    if c in freq:\n",
    "      freq[c] += 1\n",
    "    else:\n",
    "      freq[c] = 1\n",
    "  return freq\n",
    "      \n",
    "\n",
    "#test\n",
    "print (char_freq(\"abbabcbdbabdbdbabababcbcbab\"))\n",
    "print (char_freq(\"hello\"))"
   ]
  },
  {
   "cell_type": "code",
   "execution_count": 4,
   "metadata": {},
   "outputs": [
    {
     "name": "stdout",
     "output_type": "stream",
     "text": [
      "This is very funny and cool. Indeed!\n"
     ]
    }
   ],
   "source": [
    "import re\n",
    "def correct(str):\n",
    "  checkspace = re.sub(r'\\s{2,}', ' ', str)\n",
    "  makespace = re.sub(r'(\\.)(\\w)', r'\\1 \\2', checkspace)\n",
    "  return makespace\n",
    "\n",
    "#test\n",
    "print (correct('This   is        very funny  and    cool.Indeed!'))"
   ]
  },
  {
   "cell_type": "code",
   "execution_count": 5,
   "metadata": {},
   "outputs": [
    {
     "name": "stdout",
     "output_type": "stream",
     "text": [
      "tries\n",
      "brushes\n",
      "runs\n",
      "fixes\n"
     ]
    }
   ],
   "source": [
    "suffixes = ('o', 'ch', 's', 'sh', 'x', 'z')\n",
    "def make_3sg_form(verb):\n",
    "  if verb.endswith('y'):\n",
    "    return verb[:-1]+'ies'\n",
    "  elif verb.endswith(suffixes):\n",
    "    return verb+'es'\n",
    "  else:\n",
    "    return verb+'s'\n",
    "\n",
    "#test\n",
    "print (make_3sg_form('try'))\n",
    "print (make_3sg_form('brush'))\n",
    "print (make_3sg_form('run'))\n",
    "print (make_3sg_form('fix'))"
   ]
  }
 ],
 "metadata": {
  "kernelspec": {
   "display_name": "Python 3",
   "language": "python",
   "name": "python3"
  },
  "language_info": {
   "codemirror_mode": {
    "name": "ipython",
    "version": 3
   },
   "file_extension": ".py",
   "mimetype": "text/x-python",
   "name": "python",
   "nbconvert_exporter": "python",
   "pygments_lexer": "ipython3",
   "version": "3.8.5"
  }
 },
 "nbformat": 4,
 "nbformat_minor": 4
}
