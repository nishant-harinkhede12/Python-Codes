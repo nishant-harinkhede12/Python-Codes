{
 "cells": [
  {
   "cell_type": "code",
   "execution_count": 2,
   "metadata": {},
   "outputs": [
    {
     "data": {
      "text/html": [
       "<div>\n",
       "<style scoped>\n",
       "    .dataframe tbody tr th:only-of-type {\n",
       "        vertical-align: middle;\n",
       "    }\n",
       "\n",
       "    .dataframe tbody tr th {\n",
       "        vertical-align: top;\n",
       "    }\n",
       "\n",
       "    .dataframe thead th {\n",
       "        text-align: right;\n",
       "    }\n",
       "</style>\n",
       "<table border=\"1\" class=\"dataframe\">\n",
       "  <thead>\n",
       "    <tr style=\"text-align: right;\">\n",
       "      <th></th>\n",
       "      <th>ProductCode</th>\n",
       "      <th>Date</th>\n",
       "      <th>Amount</th>\n",
       "      <th>Received Cash</th>\n",
       "      <th>CashierName</th>\n",
       "    </tr>\n",
       "  </thead>\n",
       "  <tbody>\n",
       "    <tr>\n",
       "      <th>0</th>\n",
       "      <td>LBVT18010004435</td>\n",
       "      <td>01-05-2018 12:36</td>\n",
       "      <td>1121.2</td>\n",
       "      <td>1121.2</td>\n",
       "      <td>MAYTE</td>\n",
       "    </tr>\n",
       "    <tr>\n",
       "      <th>1</th>\n",
       "      <td>LBVT18010004436</td>\n",
       "      <td>01-05-2018 12:37</td>\n",
       "      <td>18.5</td>\n",
       "      <td>20.0</td>\n",
       "      <td>MAYTE</td>\n",
       "    </tr>\n",
       "    <tr>\n",
       "      <th>2</th>\n",
       "      <td>LBVT18010004437</td>\n",
       "      <td>01-05-2018 12:38</td>\n",
       "      <td>160.0</td>\n",
       "      <td>200.0</td>\n",
       "      <td>MAYTE</td>\n",
       "    </tr>\n",
       "    <tr>\n",
       "      <th>3</th>\n",
       "      <td>LBVT18010004438</td>\n",
       "      <td>01-05-2018 12:47</td>\n",
       "      <td>397.5</td>\n",
       "      <td>397.5</td>\n",
       "      <td>MAYTE</td>\n",
       "    </tr>\n",
       "    <tr>\n",
       "      <th>4</th>\n",
       "      <td>LBVT18010004439</td>\n",
       "      <td>01-05-2018 12:48</td>\n",
       "      <td>22.0</td>\n",
       "      <td>50.0</td>\n",
       "      <td>MAYTE</td>\n",
       "    </tr>\n",
       "  </tbody>\n",
       "</table>\n",
       "</div>"
      ],
      "text/plain": [
       "       ProductCode              Date  Amount  Received Cash CashierName\n",
       "0  LBVT18010004435  01-05-2018 12:36  1121.2         1121.2       MAYTE\n",
       "1  LBVT18010004436  01-05-2018 12:37    18.5           20.0       MAYTE\n",
       "2  LBVT18010004437  01-05-2018 12:38   160.0          200.0       MAYTE\n",
       "3  LBVT18010004438  01-05-2018 12:47   397.5          397.5       MAYTE\n",
       "4  LBVT18010004439  01-05-2018 12:48    22.0           50.0       MAYTE"
      ]
     },
     "execution_count": 2,
     "metadata": {},
     "output_type": "execute_result"
    }
   ],
   "source": [
    "import pandas as pd\n",
    "import numpy as np\n",
    "import matplotlib.pyplot as plt\n",
    "import seaborn as sns\n",
    "\n",
    "url = 'https://raw.githubusercontent.com/akjadon/HH/master/class_demo/w0.0/Supermarket.csv'\n",
    "\n",
    "super = pd.read_csv(url)\n",
    "super.head()"
   ]
  },
  {
   "cell_type": "code",
   "execution_count": 5,
   "metadata": {},
   "outputs": [
    {
     "name": "stdout",
     "output_type": "stream",
     "text": [
      "Mode of Amount 0    50.0\n",
      "dtype: float64\n"
     ]
    }
   ],
   "source": [
    "print(\"Mode of Amount\",round(super['Amount'].mode(),2))"
   ]
  },
  {
   "cell_type": "code",
   "execution_count": 8,
   "metadata": {},
   "outputs": [
    {
     "name": "stdout",
     "output_type": "stream",
     "text": [
      "Mean of Amount 189.78\n"
     ]
    }
   ],
   "source": [
    "print(\"Mean of Amount\",round(super['Amount'].mean(),2))"
   ]
  },
  {
   "cell_type": "code",
   "execution_count": 10,
   "metadata": {},
   "outputs": [
    {
     "name": "stdout",
     "output_type": "stream",
     "text": [
      "Range of Amount 15036.8\n"
     ]
    }
   ],
   "source": [
    "print(\"Range of Amount\",np.ptp(super['Amount']))"
   ]
  },
  {
   "cell_type": "code",
   "execution_count": 14,
   "metadata": {},
   "outputs": [
    {
     "name": "stdout",
     "output_type": "stream",
     "text": [
      "Range of Received Cash 7500000000000.0\n"
     ]
    }
   ],
   "source": [
    "print(\"Range of Received Cash\",round(np.ptp(super['Received Cash'],axis=0),2))"
   ]
  }
 ],
 "metadata": {
  "kernelspec": {
   "display_name": "Python 3",
   "language": "python",
   "name": "python3"
  },
  "language_info": {
   "codemirror_mode": {
    "name": "ipython",
    "version": 3
   },
   "file_extension": ".py",
   "mimetype": "text/x-python",
   "name": "python",
   "nbconvert_exporter": "python",
   "pygments_lexer": "ipython3",
   "version": "3.8.5"
  }
 },
 "nbformat": 4,
 "nbformat_minor": 4
}
