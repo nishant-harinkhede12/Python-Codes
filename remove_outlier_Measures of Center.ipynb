
    "import pandas as pd\n",
    "train = pd.read_csv(r'E:\\Phase 2\\15.07.21\\sales_train.csv')"
   ]
  },
  {
   "cell_type": "code",
   "execution_count": 4,
   "metadata": {},
   "outputs": [
    {
     "data": {
      "text/plain": [
       "date_block_num      14.0\n",
       "shop_id             31.0\n",
       "item_id           9343.0\n",
       "item_price         399.0\n",
       "item_cnt_day         1.0\n",
       "dtype: float64"
      ]
     },
     "execution_count": 4,
     "metadata": {},
     "output_type": "execute_result"
    }
   ],
   "source": [
    "# train.describe()\n",
    "train.median()\n",
    "# train.mean()"
   ]
  },
  {
   "cell_type": "markdown",
   "metadata": {},
   "source": [
    "Outliers using Z score\n"
   ]
  },
  {
   "cell_type": "code",
   "execution_count": 3,
   "metadata": {},
   "outputs": [],
   "source": [
    "from scipy import stats\n",
    "import numpy as np"
   ]
  },
  {
   "cell_type": "code",
   "execution_count": 6,
   "metadata": {},
   "outputs": [
    {
     "name": "stdout",
     "output_type": "stream",
     "text": [
      "[[0.06251983 0.09265226]\n",
      " [0.00470966 0.09265226]\n",
      " [0.00470966 0.85635092]\n",
      " ...\n",
      " [0.31324629 0.09265226]\n",
      " [0.34215138 0.09265226]\n",
      " [0.34215138 0.09265226]]\n"
     ]
    }
   ],
   "source": [
    "# Using Z-score function defined in scipy library to detect the outliers\n",
    "z = np.abs(stats.zscore(train[['item_price','item_cnt_day']]))\n",
    "print(z)"
   ]
  },
  {
   "cell_type": "code",
   "execution_count": 8,
   "metadata": {},
   "outputs": [
    {
     "name": "stdout",
     "output_type": "stream",
     "text": [
      "(array([   1701,    2113,    2172, ..., 2935757, 2935758, 2935766],\n",
      "      dtype=int64), array([0, 0, 0, ..., 1, 1, 1], dtype=int64))\n"
     ]
    }
   ],
   "source": [
    "# Define a threshold to identify an outlier\n",
    "threshold = 5\n",
    "print(np.where(z > threshold))"
   ]
  },
  {
   "cell_type": "code",
   "execution_count": 11,
   "metadata": {},
   "outputs": [
    {
     "name": "stdout",
     "output_type": "stream",
     "text": [
      "7.288791540198493\n"
     ]
    }
   ],
   "source": [
    "# The first array contains the list of row numbers and second array respective column numbers, \n",
    "# which mean z[352][1] have a Z-score higher than 5.\n",
    "print(z[1701][0])"
   ]
  },
  {
   "cell_type": "code",
   "execution_count": 13,
   "metadata": {},
   "outputs": [
    {
     "data": {
      "text/html": [
       "<div>\n",
       "<style scoped>\n",
       "    .dataframe tbody tr th:only-of-type {\n",
       "        vertical-align: middle;\n",
       "    }\n",
       "\n",
       "    .dataframe tbody tr th {\n",
       "        vertical-align: top;\n",
       "    }\n",
       "\n",
       "    .dataframe thead th {\n",
       "        text-align: right;\n",
       "    }\n",
       "</style>\n",
       "<table border=\"1\" class=\"dataframe\">\n",
       "  <thead>\n",
       "    <tr style=\"text-align: right;\">\n",
       "      <th></th>\n",
       "      <th>date</th>\n",
       "      <th>date_block_num</th>\n",
       "      <th>shop_id</th>\n",
       "      <th>item_id</th>\n",
       "      <th>item_price</th>\n",
       "      <th>item_cnt_day</th>\n",
       "    </tr>\n",
       "  </thead>\n",
       "  <tbody>\n",
       "    <tr>\n",
       "      <th>1700</th>\n",
       "      <td>02.01.2013</td>\n",
       "      <td>0</td>\n",
       "      <td>25</td>\n",
       "      <td>4375</td>\n",
       "      <td>449.0</td>\n",
       "      <td>1.0</td>\n",
       "    </tr>\n",
       "    <tr>\n",
       "      <th>1701</th>\n",
       "      <td>03.01.2013</td>\n",
       "      <td>0</td>\n",
       "      <td>25</td>\n",
       "      <td>4384</td>\n",
       "      <td>13499.0</td>\n",
       "      <td>1.0</td>\n",
       "    </tr>\n",
       "  </tbody>\n",
       "</table>\n",
       "</div>"
      ],
      "text/plain": [
       "            date  date_block_num  shop_id  item_id  item_price  item_cnt_day\n",
       "1700  02.01.2013               0       25     4375       449.0           1.0\n",
       "1701  03.01.2013               0       25     4384     13499.0           1.0"
      ]
     },
     "execution_count": 13,
     "metadata": {},
     "output_type": "execute_result"
    }
   ],
   "source": [
    "\n",
    "# Printing the sample values for the same\n",
    "train.iloc[1700:1702]"
   ]
  },
  {
   "cell_type": "code",
   "execution_count": 15,
   "metadata": {},
   "outputs": [],
   "source": [
    "def remove_outlier(df_in, col_name):\n",
    "    q1 = df_in[col_name].quantile(0.25)\n",
    "    q3 = df_in[col_name].quantile(0.75)\n",
    "    iqr = q3-q1 #Interquartile range\n",
    "    fence_low  = q1-1.5*iqr\n",
    "    fence_high = q3+1.5*iqr\n",
    "    df_out = df_in.loc[(df_in[col_name] > fence_low) & (df_in[col_name] < fence_high)]\n",
    "    return df_out"
   ]
  },
  {
   "cell_type": "code",
   "execution_count": 17,
   "metadata": {},
   "outputs": [
    {
     "data": {
      "text/html": [
       "<div>\n",
       "<style scoped>\n",
       "    .dataframe tbody tr th:only-of-type {\n",
       "        vertical-align: middle;\n",
       "    }\n",
       "\n",
       "    .dataframe tbody tr th {\n",
       "        vertical-align: top;\n",
       "    }\n",
       "\n",
       "    .dataframe thead th {\n",
       "        text-align: right;\n",
       "    }\n",
       "</style>\n",
       "<table border=\"1\" class=\"dataframe\">\n",
       "  <thead>\n",
       "    <tr style=\"text-align: right;\">\n",
       "      <th></th>\n",
       "      <th>date</th>\n",
       "      <th>date_block_num</th>\n",
       "      <th>shop_id</th>\n",
       "      <th>item_id</th>\n",
       "      <th>item_price</th>\n",
       "      <th>item_cnt_day</th>\n",
       "    </tr>\n",
       "  </thead>\n",
       "  <tbody>\n",
       "    <tr>\n",
       "      <th>0</th>\n",
       "      <td>02.01.2013</td>\n",
       "      <td>0</td>\n",
       "      <td>59</td>\n",
       "      <td>22154</td>\n",
       "      <td>999.00</td>\n",
       "      <td>1.0</td>\n",
       "    </tr>\n",
       "    <tr>\n",
       "      <th>1</th>\n",
       "      <td>03.01.2013</td>\n",
       "      <td>0</td>\n",
       "      <td>25</td>\n",
       "      <td>2552</td>\n",
       "      <td>899.00</td>\n",
       "      <td>1.0</td>\n",
       "    </tr>\n",
       "    <tr>\n",
       "      <th>2</th>\n",
       "      <td>05.01.2013</td>\n",
       "      <td>0</td>\n",
       "      <td>25</td>\n",
       "      <td>2552</td>\n",
       "      <td>899.00</td>\n",
       "      <td>-1.0</td>\n",
       "    </tr>\n",
       "    <tr>\n",
       "      <th>3</th>\n",
       "      <td>06.01.2013</td>\n",
       "      <td>0</td>\n",
       "      <td>25</td>\n",
       "      <td>2554</td>\n",
       "      <td>1709.05</td>\n",
       "      <td>1.0</td>\n",
       "    </tr>\n",
       "    <tr>\n",
       "      <th>4</th>\n",
       "      <td>15.01.2013</td>\n",
       "      <td>0</td>\n",
       "      <td>25</td>\n",
       "      <td>2555</td>\n",
       "      <td>1099.00</td>\n",
       "      <td>1.0</td>\n",
       "    </tr>\n",
       "  </tbody>\n",
       "</table>\n",
       "</div>"
      ],
      "text/plain": [
       "         date  date_block_num  shop_id  item_id  item_price  item_cnt_day\n",
       "0  02.01.2013               0       59    22154      999.00           1.0\n",
       "1  03.01.2013               0       25     2552      899.00           1.0\n",
       "2  05.01.2013               0       25     2552      899.00          -1.0\n",
       "3  06.01.2013               0       25     2554     1709.05           1.0\n",
       "4  15.01.2013               0       25     2555     1099.00           1.0"
      ]
     },
     "execution_count": 17,
     "metadata": {},
     "output_type": "execute_result"
    }
   ],
   "source": [
    "remove_outlier(train,\"item_price\").head()"
   ]
  },
  {
   "cell_type": "code",
   "execution_count": 18,
   "metadata": {},
   "outputs": [
    {
     "data": {
      "text/html": [
       "<div>\n",
       "<style scoped>\n",
       "    .dataframe tbody tr th:only-of-type {\n",
       "        vertical-align: middle;\n",
       "    }\n",
       "\n",
       "    .dataframe tbody tr th {\n",
       "        vertical-align: top;\n",
       "    }\n",
       "\n",
       "    .dataframe thead th {\n",
       "        text-align: right;\n",
       "    }\n",
       "</style>\n",
       "<table border=\"1\" class=\"dataframe\">\n",
       "  <thead>\n",
       "    <tr style=\"text-align: right;\">\n",
       "      <th></th>\n",
       "      <th>date</th>\n",
       "      <th>date_block_num</th>\n",
       "      <th>shop_id</th>\n",
       "      <th>item_id</th>\n",
       "      <th>item_price</th>\n",
       "      <th>item_cnt_day</th>\n",
       "    </tr>\n",
       "  </thead>\n",
       "  <tbody>\n",
       "    <tr>\n",
       "      <th>0</th>\n",
       "      <td>28.12.2013</td>\n",
       "      <td>11</td>\n",
       "      <td>31</td>\n",
       "      <td>20949</td>\n",
       "      <td>299.0</td>\n",
       "      <td>1.0</td>\n",
       "    </tr>\n",
       "  </tbody>\n",
       "</table>\n",
       "</div>"
      ],
      "text/plain": [
       "         date  date_block_num  shop_id  item_id  item_price  item_cnt_day\n",
       "0  28.12.2013              11       31    20949       299.0           1.0"
      ]
     },
     "execution_count": 18,
     "metadata": {},
     "output_type": "execute_result"
    }
   ],
   "source": [
    "train.mode()"
   ]
  },
  {
   "cell_type": "code",
   "execution_count": 19,
   "metadata": {},
   "outputs": [
    {
     "data": {
      "text/plain": [
       "<AxesSubplot:xlabel='item_price'>"
      ]
     },
     "execution_count": 19,
     "metadata": {},
     "output_type": "execute_result"
    },
    {
     "data": {
      "image/png": "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\n",
      "text/plain": [
       "<Figure size 432x288 with 1 Axes>"
      ]
     },
     "metadata": {
      "needs_background": "light"
     },
     "output_type": "display_data"
    }
   ],
   "source": [
    "%matplotlib inline\n",
    "import seaborn as sns\n",
    "sns.boxplot(x=train['item_price'])"
   ]
  },
  {
   "cell_type": "code",
   "execution_count": 20,
   "metadata": {},
   "outputs": [
    {
     "data": {
      "text/plain": [
       "<AxesSubplot:xlabel='item_cnt_day'>"
      ]
     },
     "execution_count": 20,
     "metadata": {},
     "output_type": "execute_result"
    },
    {
     "data": {
      "image/png": "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\n",
      "text/plain": [
       "<Figure size 432x288 with 1 Axes>"
      ]
     },
     "metadata": {
      "needs_background": "light"
     },
     "output_type": "display_data"
    }
   ],
   "source": [
    "sns.boxplot(x=train['item_cnt_day'])"
   ]
  },
  {
   "cell_type": "code",
   "execution_count": 21,
   "metadata": {},
   "outputs": [
    {
     "data": {
      "text/plain": [
       "<AxesSubplot:xlabel='item_cnt_day', ylabel='item_price'>"
      ]
     },
     "execution_count": 21,
     "metadata": {},
     "output_type": "execute_result"
    },
    {
     "data": {
      "image/png": "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\n",
      "text/plain": [
       "<Figure size 432x288 with 1 Axes>"
      ]
     },
     "metadata": {
      "needs_background": "light"
     },
     "output_type": "display_data"
    }
   ],
   "source": [
    "sns.scatterplot(x=\"item_cnt_day\", y=\"item_price\", data=train)"
   ]
  },
  {
   "cell_type": "code",
   "execution_count": null,
   "metadata": {},
   "outputs": [],
   "source": []
  }
 ],
 "metadata": {
  "kernelspec": {
   "display_name": "Python 3",
   "language": "python",
   "name": "python3"
  },
  "language_info": {
   "codemirror_mode": {
    "name": "ipython",
    "version": 3
   },
   "file_extension": ".py",
   "mimetype": "text/x-python",
   "name": "python",
   "nbconvert_exporter": "python",
   "pygments_lexer": "ipython3",
   "version": "3.8.5"
  }
 },
 "nbformat": 4,
 "nbformat_minor": 4
}
