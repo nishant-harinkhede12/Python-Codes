{
 "cells": [
  {
   "cell_type": "code",
   "execution_count": 1,
   "metadata": {},
   "outputs": [],
   "source": [
    "import pandas as pd\n",
    "test = pd.read_csv(r'E:\\Phase 2\\15.07.21\\sales_train.csv')"
   ]
  },
  {
   "cell_type": "code",
   "execution_count": 10,
   "metadata": {},
   "outputs": [
    {
     "data": {
      "text/plain": [
       "31    235636\n",
       "25    186104\n",
       "54    143480\n",
       "28    142234\n",
       "57    117428\n",
       "42    109253\n",
       "27    105366\n",
       "6      82663\n",
       "58     71441\n",
       "56     69573\n",
       "46     66321\n",
       "50     65173\n",
       "19     63911\n",
       "15     59511\n",
       "35     58445\n",
       "21     58133\n",
       "7      58076\n",
       "47     56695\n",
       "26     53910\n",
       "18     53227\n",
       "24     53032\n",
       "53     52921\n",
       "16     52734\n",
       "30     50860\n",
       "29     49225\n",
       "38     46013\n",
       "22     45434\n",
       "51     44433\n",
       "52     43502\n",
       "59     42108\n",
       "41     41967\n",
       "37     39638\n",
       "44     39530\n",
       "43     39282\n",
       "4      38242\n",
       "5      38179\n",
       "14     36979\n",
       "45     35891\n",
       "55     34769\n",
       "12     34694\n",
       "2      25991\n",
       "3      25532\n",
       "17     22950\n",
       "48     21612\n",
       "10     21397\n",
       "13     17824\n",
       "49     15849\n",
       "39     13440\n",
       "0       9857\n",
       "32      7947\n",
       "23      6963\n",
       "34      5752\n",
       "1       5678\n",
       "33      5027\n",
       "40      4257\n",
       "9       3751\n",
       "8       3412\n",
       "20      1792\n",
       "11       499\n",
       "36       306\n",
       "Name: shop_id, dtype: int64"
      ]
     },
     "execution_count": 10,
     "metadata": {},
     "output_type": "execute_result"
    }
   ],
   "source": [
    "# test.isnull().sum()\n",
    "# test.head()\n",
    "# test.info()\n",
    "test['shop_id'].value_counts()"
   ]
  }
 ],
 "metadata": {
  "kernelspec": {
   "display_name": "Python 3",
   "language": "python",
   "name": "python3"
  },
  "language_info": {
   "codemirror_mode": {
    "name": "ipython",
    "version": 3
   },
   "file_extension": ".py",
   "mimetype": "text/x-python",
   "name": "python",
   "nbconvert_exporter": "python",
   "pygments_lexer": "ipython3",
   "version": "3.8.5"
  }
 },
 "nbformat": 4,
 "nbformat_minor": 4
}
