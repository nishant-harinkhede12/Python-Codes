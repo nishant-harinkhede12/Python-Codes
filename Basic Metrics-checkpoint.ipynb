{
 "cells": [
  {
   "cell_type": "code",
   "execution_count": 11,
   "metadata": {},
   "outputs": [
    {
     "data": {
      "image/png": "[encoded data removed]",
      "text/plain": [
       "<Figure size 432x288 with 1 Axes>"
      ]
     },
     "metadata": {
      "needs_background": "light"
     },
     "output_type": "display_data"
    }
   ],
   "source": [
    "from scipy.stats import norm\n",
    "import numpy as np\n",
    "import matplotlib.pyplot as plt\n",
    "\n",
    "x = np.arange(-10,10,0.0001)\n",
    "plt.plot(x,norm.pdf(x))\n",
    "plt.show()"
   ]
  },
  {
   "cell_type": "code",
   "execution_count": 1,
   "metadata": {},
   "outputs": [],
   "source": [
    "import pandas as pd\n",
    "import numpy as np\n",
    "from datetime import datetime as dt\n",
    "from scipy import stats"
   ]
  },
  {
   "cell_type": "code",
   "execution_count": 3,
   "metadata": {},
   "outputs": [],
   "source": [
    "price = 'https://raw.githubusercontent.com/akjadon/Data/master/python/Weed_Price.csv'\n",
    "demographic = 'https://raw.githubusercontent.com/akjadon/Data/master/python/Demographics_State.csv'\n",
    "Population = 'https://raw.githubusercontent.com/akjadon/Data/master/python/Population_State.csv'\n",
    "\n",
    "price_pd = pd.read_csv(price,sep = ',',parse_dates=[-1])\n",
    "demographic_pd = pd.read_csv(demographic,sep = ',')\n",
    "Population_pd = pd.read_csv(Population,sep = ',')\n"
   ]
  },
  {
   "cell_type": "code",
   "execution_count": 18,
   "metadata": {},
   "outputs": [
    {
     "name": "stdout",
     "output_type": "stream",
     "text": [
      "<class 'pandas.core.frame.DataFrame'>\n",
      "RangeIndex: 22899 entries, 0 to 22898\n",
      "Data columns (total 8 columns):\n",
      " #   Column  Non-Null Count  Dtype         \n",
      "---  ------  --------------  -----         \n",
      " 0   State   22899 non-null  object        \n",
      " 1   HighQ   22899 non-null  float64       \n",
      " 2   HighQN  22899 non-null  int64         \n",
      " 3   MedQ    22899 non-null  float64       \n",
      " 4   MedQN   22899 non-null  int64         \n",
      " 5   LowQ    12342 non-null  float64       \n",
      " 6   LowQN   22899 non-null  int64         \n",
      " 7   date    22899 non-null  datetime64[ns]\n",
      "dtypes: datetime64[ns](1), float64(3), int64(3), object(1)\n",
      "memory usage: 1.4+ MB\n"
     ]
    }
   ],
   "source": [
    "price_pd.info()"
   ]
  },
  {
   "cell_type": "code",
   "execution_count": 4,
   "metadata": {},
   "outputs": [],
   "source": [
    "# price_pd.sort(['State','date'], inplace=True)\n",
    "price_pd.sort_values(['State', 'date'], inplace=True)\n",
    "# dir(price_pd)\n",
    "# price_pd.fillna(method='ffill',inplace=True)"
   ]
  },
  {
   "cell_type": "code",
   "execution_count": 5,
   "metadata": {},
   "outputs": [
    {
     "name": "stdout",
     "output_type": "stream",
     "text": [
      "<class 'pandas.core.frame.DataFrame'>\n",
      "Int64Index: 449 entries, 20098 to 8113\n",
      "Data columns (total 8 columns):\n",
      " #   Column  Non-Null Count  Dtype         \n",
      "---  ------  --------------  -----         \n",
      " 0   State   449 non-null    object        \n",
      " 1   HighQ   449 non-null    float64       \n",
      " 2   HighQN  449 non-null    int64         \n",
      " 3   MedQ    449 non-null    float64       \n",
      " 4   MedQN   449 non-null    int64         \n",
      " 5   LowQ    242 non-null    float64       \n",
      " 6   LowQN   449 non-null    int64         \n",
      " 7   date    449 non-null    datetime64[ns]\n",
      "dtypes: datetime64[ns](1), float64(3), int64(3), object(1)\n",
      "memory usage: 31.6+ KB\n"
     ]
    }
   ],
   "source": [
    "# price_pd['State'].value_counts()\n",
    "California_pd = price_pd[price_pd['State'] == 'California'].copy(True)\n",
    "California_pd.info()"
   ]
  },
  {
   "cell_type": "code",
   "execution_count": 51,
   "metadata": {},
   "outputs": [
    {
     "data": {
      "text/plain": [
       "329.75985414210226"
      ]
     },
     "execution_count": 51,
     "metadata": {},
     "output_type": "execute_result"
    }
   ],
   "source": [
    "price_sum = price_pd['HighQ'].sum()\n",
    "price_count = price_pd['HighQ'].count()\n",
    "price_avg = price_sum/price_count\n",
    "price_avg"
   ]
  },
  {
   "cell_type": "code",
   "execution_count": 14,
   "metadata": {},
   "outputs": [],
   "source": [
    "# California_pd\n",
    "# ca_sum = California_pd['HighQ'].sum()\n",
    "# ca_count = California_pd['HighQ'].count()\n",
    "# ca_avg = ca_sum/ca_count\n",
    "\n",
    "Ca_pd = California_pd.sort_values(['HighQ'],inplace = True)\n"
   ]
  },
  {
   "cell_type": "code",
   "execution_count": 24,
   "metadata": {},
   "outputs": [
    {
     "data": {
      "text/plain": [
       "2.9826862879812266"
      ]
     },
     "execution_count": 24,
     "metadata": {},
     "output_type": "execute_result"
    }
   ],
   "source": [
    "# ca_mean = California_pd['HighQ'].mean(axis =0,skipna =True)\n",
    "# ca_median = California_pd['HighQ'].median(axis =0,skipna =True)\n",
    "# ca_mode = California_pd['HighQ'].mode()\n",
    "\n",
    "ca_var = California_pd['HighQ'].var()\n",
    "ca_var"
   ]
  },
  {
   "cell_type": "code",
   "execution_count": 27,
   "metadata": {},
   "outputs": [],
   "source": [
    "ca_sd = California_pd['HighQ'].std()"
   ]
  },
  {
   "cell_type": "code",
   "execution_count": 32,
   "metadata": {},
   "outputs": [],
   "source": [
    "# price_pd['State'].value_counts()\n",
    "NY_pd = price_pd[price_pd['State']=='New York'].copy(True)"
   ]
  },
  {
   "cell_type": "code",
   "execution_count": 38,
   "metadata": {},
   "outputs": [],
   "source": [
    "# NY_pd = NY_pd.iloc[:,[1,7]]\n",
    "NY_pd.columns = ['NY_HighQ','date']"
   ]
  },
  {
   "cell_type": "code",
   "execution_count": 1,
   "metadata": {},
   "outputs": [
    {
     "ename": "NameError",
     "evalue": "name 'pd' is not defined",
     "output_type": "error",
     "traceback": [
      "\u001b[1;31m---------------------------------------------------------------------------\u001b[0m",
      "\u001b[1;31mNameError\u001b[0m                                 Traceback (most recent call last)",
      "\u001b[1;32m<ipython-input-1-7cb635e11641>\u001b[0m in \u001b[0;36m<module>\u001b[1;34m\u001b[0m\n\u001b[1;32m----> 1\u001b[1;33m \u001b[0mCa_NY_pd\u001b[0m \u001b[1;33m=\u001b[0m \u001b[0mpd\u001b[0m\u001b[1;33m.\u001b[0m\u001b[0mmerge\u001b[0m\u001b[1;33m(\u001b[0m\u001b[0mCa_pd\u001b[0m\u001b[1;33m.\u001b[0m\u001b[0miloc\u001b[0m\u001b[1;33m[\u001b[0m\u001b[1;33m:\u001b[0m\u001b[1;33m,\u001b[0m\u001b[1;33m[\u001b[0m\u001b[1;36m1\u001b[0m\u001b[1;33m,\u001b[0m\u001b[1;36m7\u001b[0m\u001b[1;33m]\u001b[0m\u001b[1;33m.\u001b[0m\u001b[0mcopy\u001b[0m\u001b[1;33m(\u001b[0m\u001b[1;32mTrue\u001b[0m\u001b[1;33m)\u001b[0m\u001b[1;33m]\u001b[0m\u001b[1;33m,\u001b[0m\u001b[0mNY_pd\u001b[0m\u001b[1;33m,\u001b[0m \u001b[0mon\u001b[0m\u001b[1;33m(\u001b[0m\u001b[1;34m'date'\u001b[0m\u001b[1;33m)\u001b[0m\u001b[1;33m)\u001b[0m\u001b[1;33m\u001b[0m\u001b[1;33m\u001b[0m\u001b[0m\n\u001b[0m",
      "\u001b[1;31mNameError\u001b[0m: name 'pd' is not defined"
     ]
    }
   ],
   "source": [
    "Ca_NY_pd = pd.merge(Ca_pd.iloc[:,[1,7].copy(True)],NY_pd, on('date'))"
   ]
  },
  {
   "cell_type": "code",
   "execution_count": null,
   "metadata": {},
   "outputs": [],
   "source": []
  }
 ],
 "metadata": {
  "kernelspec": {
   "display_name": "Python 3",
   "language": "python",
   "name": "python3"
  },
  "language_info": {
   "codemirror_mode": {
    "name": "ipython",
    "version": 3
   },
   "file_extension": ".py",
   "mimetype": "text/x-python",
   "name": "python",
   "nbconvert_exporter": "python",
   "pygments_lexer": "ipython3",
   "version": "3.8.5"
  }
 },
 "nbformat": 4,
 "nbformat_minor": 4
}
