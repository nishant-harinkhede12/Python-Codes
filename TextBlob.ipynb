{
  "nbformat": 4,
  "nbformat_minor": 0,
  "metadata": {
    "colab": {
      "name": "Untitled31.ipynb",
      "provenance": [],
      "authorship_tag": "ABX9TyOvHV+5V+aYpg9ncEwVGzkL",
      "include_colab_link": true
    },
    "kernelspec": {
      "name": "python3",
      "display_name": "Python 3"
    },
    "language_info": {
      "name": "python"
    }
  },
  "cells": [
    {
      "cell_type": "markdown",
      "metadata": {
        "id": "view-in-github",
        "colab_type": "text"
      },
      "source": [
        "<a href=\"https://colab.research.google.com/github/nishant-harinkhede12/Python-Codes-and-NLP/blob/NLP/TextBlob.ipynb\" target=\"_parent\"><img src=\"https://colab.research.google.com/assets/colab-badge.svg\" alt=\"Open In Colab\"/></a>"
      ]
    },
    {
      "cell_type": "code",
      "metadata": {
        "colab": {
          "base_uri": "https://localhost:8080/"
        },
        "id": "Tz6NFQdWI2HO",
        "outputId": "e528706f-22e6-4b79-b5b0-1641fb2a1d38"
      },
      "source": [
        "from textblob import TextBlob\n",
        "words = [\"Data Scence\", \"Mahine Learnin\"]\n",
        "corrected_words = []\n",
        "for i in words:\n",
        "    corrected_words.append(TextBlob(i))\n",
        "print(\"Wrong words :\", words)\n",
        "print(\"Corrected Words are :\")\n",
        "for i in corrected_words:\n",
        "    print(i.correct(), end=\" \")"
      ],
      "execution_count": 1,
      "outputs": [
        {
          "output_type": "stream",
          "name": "stdout",
          "text": [
            "Wrong words : ['Data Scence', 'Mahine Learnin']\n",
            "Corrected Words are :\n",
            "Data Science Machine Learning "
          ]
        }
      ]
    },
    {
      "cell_type": "code",
      "metadata": {
        "id": "o_iS_lreJPzF"
      },
      "source": [
        "paragraph = \"\"\"I have three visions for India. In 3000 years of our history, people from all over \n",
        "               the world have come and invaded us, captured our lands, conquered our minds. \n",
        "               From Alexander onwards, the Greeks, the Turks, the Moguls, the Portuguese, the British,\n",
        "               the French, the Dutch, all of them came and looted us, took over what was ours. \n",
        "               Yet we have not done this to any other nation. We have not conquered anyone. \n",
        "               We have not grabbed their land, their culture, \n",
        "               their history and tried to enforce our way of life on them. \n",
        "               Why? Because we respect the freedom of others.That is why my \n",
        "               first vision is that of freedom. I believe that India got its first vision of \n",
        "               this in 1857, when we started the War of Independence. It is this freedom that\n",
        "               we must protect and nurture and build on. If we are not free, no one will respect us.\n",
        "               My second vision for India’s development. For fifty years we have been a developing nation.\n",
        "               It is time we see ourselves as a developed nation. We are among the top 5 nations of the world\n",
        "               in terms of GDP. We have a 10 percent growth rate in most areas. Our poverty levels are falling.\n",
        "               Our achievements are being globally recognised today. Yet we lack the self-confidence to\n",
        "               see ourselves as a developed nation, self-reliant and self-assured. Isn’t this incorrect?\n",
        "               I have a third vision. India must stand up to the world. Because I believe that unless India \n",
        "               stands up to the world, no one will respect us. Only strength respects strength. We must be \n",
        "               strong not only as a military power but also as an economic power. Both must go hand-in-hand. \n",
        "               My good fortune was to have worked with three great minds. Dr. Vikram Sarabhai of the Dept. of \n",
        "               space, Professor Satish Dhawan, who succeeded him and Dr. Brahm Prakash, father of nuclear material.\n",
        "               I was lucky to have worked with all three of them closely and consider this the great opportunity of my life. \n",
        "               I see four milestones in my career\"\"\""
      ],
      "execution_count": 2,
      "outputs": []
    },
    {
      "cell_type": "code",
      "metadata": {
        "colab": {
          "base_uri": "https://localhost:8080/"
        },
        "id": "u0L6YQcpJUxo",
        "outputId": "11f53bc2-4f1e-42eb-919b-ccfff2000546"
      },
      "source": [
        "from textblob import TextBlob\n",
        "\n",
        "corrected_words = []\n",
        "for i in paragraph:\n",
        "    corrected_words.append(TextBlob(i))\n",
        "# print(\"Wrong words :\", words)\n",
        "print(\"Corrected Words are :\")\n",
        "for i in corrected_words:\n",
        "    print(i.correct(), end=\" \")"
      ],
      "execution_count": 3,
      "outputs": [
        {
          "output_type": "stream",
          "name": "stdout",
          "text": [
            "Corrected Words are :\n",
            "I   h a v e   t h r e e   v i s i o n s   f o r   I n d i a .   I n   3 0 0 0   y e a r s   o f   o u r   h i s t o r y ,   p e o p l e   f r o m   a l l   o v e r   \n",
            "                               t h e   w o r l d   h a v e   c o m e   a n d   i n v a d e d   u s ,   c a p t u r e d   o u r   l a n d s ,   c o n q u e r e d   o u r   m i n d s .   \n",
            "                               F r o m   A l e x a n d e r   o n w a r d s ,   t h e   G r e e k s ,   t h e   T u r k s ,   t h e   M o g u l s ,   t h e   P o r t u g u e s e ,   t h e   B r i t i s h , \n",
            "                               t h e   F r e n c h ,   t h e   D u t c h ,   a l l   o f   t h e m   c a m e   a n d   l o o t e d   u s ,   t o o k   o v e r   w h a t   w a s   o u r s .   \n",
            "                               Y e t   w e   h a v e   n o t   d o n e   t h i s   t o   a n y   o t h e r   n a t i o n .   W e   h a v e   n o t   c o n q u e r e d   a n y o n e .   \n",
            "                               W e   h a v e   n o t   g r a b b e d   t h e i r   l a n d ,   t h e i r   c u l t u r e ,   \n",
            "                               t h e i r   h i s t o r y   a n d   t r i e d   t o   e n f o r c e   o u r   w a y   o f   l i f e   o n   t h e m .   \n",
            "                               W h y ?   B e c a u s e   w e   r e s p e c t   t h e   f r e e d o m   o f   o t h e r s . T h a t   i s   w h y   m y   \n",
            "                               f i r s t   v i s i o n   i s   t h a t   o f   f r e e d o m .   I   b e l i e v e   t h a t   I n d i a   g o t   i t s   f i r s t   v i s i o n   o f   \n",
            "                               t h i s   i n   1 8 5 7 ,   w h e n   w e   s t a r t e d   t h e   W a r   o f   I n d e p e n d e n c e .   I t   i s   t h i s   f r e e d o m   t h a t \n",
            "                               w e   m u s t   p r o t e c t   a n d   n u r t u r e   a n d   b u i l d   o n .   I f   w e   a r e   n o t   f r e e ,   n o   o n e   w i l l   r e s p e c t   u s . \n",
            "                               M y   s e c o n d   v i s i o n   f o r   I n d i a ’ s   d e v e l o p m e n t .   F o r   f i f t y   y e a r s   w e   h a v e   b e e n   a   d e v e l o p i n g   n a t i o n . \n",
            "                               I t   i s   t i m e   w e   s e e   o u r s e l v e s   a s   a   d e v e l o p e d   n a t i o n .   W e   a r e   a m o n g   t h e   t o p   5   n a t i o n s   o f   t h e   w o r l d \n",
            "                               i n   t e r m s   o f   G D P .   W e   h a v e   a   1 0   p e r c e n t   g r o w t h   r a t e   i n   m o s t   a r e a s .   O u r   p o v e r t y   l e v e l s   a r e   f a l l i n g . \n",
            "                               O u r   a c h i e v e m e n t s   a r e   b e i n g   g l o b a l l y   r e c o g n i s e d   t o d a y .   Y e t   w e   l a c k   t h e   s e l f - c o n f i d e n c e   t o \n",
            "                               s e e   o u r s e l v e s   a s   a   d e v e l o p e d   n a t i o n ,   s e l f - r e l i a n t   a n d   s e l f - a s s u r e d .   I s n ’ t   t h i s   i n c o r r e c t ? \n",
            "                               I   h a v e   a   t h i r d   v i s i o n .   I n d i a   m u s t   s t a n d   u p   t o   t h e   w o r l d .   B e c a u s e   I   b e l i e v e   t h a t   u n l e s s   I n d i a   \n",
            "                               s t a n d s   u p   t o   t h e   w o r l d ,   n o   o n e   w i l l   r e s p e c t   u s .   O n l y   s t r e n g t h   r e s p e c t s   s t r e n g t h .   W e   m u s t   b e   \n",
            "                               s t r o n g   n o t   o n l y   a s   a   m i l i t a r y   p o w e r   b u t   a l s o   a s   a n   e c o n o m i c   p o w e r .   B o t h   m u s t   g o   h a n d - i n - h a n d .   \n",
            "                               M y   g o o d   f o r t u n e   w a s   t o   h a v e   w o r k e d   w i t h   t h r e e   g r e a t   m i n d s .   D r .   V i k r a m   S a r a b h a i   o f   t h e   D e p t .   o f   \n",
            "                               s p a c e ,   P r o f e s s o r   S a t i s h   D h a w a n ,   w h o   s u c c e e d e d   h i m   a n d   D r .   B r a h m   P r a k a s h ,   f a t h e r   o f   n u c l e a r   m a t e r i a l . \n",
            "                               I   w a s   l u c k y   t o   h a v e   w o r k e d   w i t h   a l l   t h r e e   o f   t h e m   c l o s e l y   a n d   c o n s i d e r   t h i s   t h e   g r e a t   o p p o r t u n i t y   o f   m y   l i f e .   \n",
            "                               I   s e e   f o u r   m i l e s t o n e s   i n   m y   c a r e e r "
          ]
        }
      ]
    }
  ]
}