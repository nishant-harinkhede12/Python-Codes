{
 "cells": [
  {
   "cell_type": "code",
   "execution_count": 2,
   "metadata": {},
   "outputs": [],
   "source": [
    "import pandas as pd\n",
    "import numpy as np\n",
    "from sklearn.datasets import make_regression"
   ]
  },
  {
   "cell_type": "code",
   "execution_count": 5,
   "metadata": {},
   "outputs": [],
   "source": [
    "X,y = make_regression(n_samples=1000, n_features=5)"
   ]
  },
  {
   "cell_type": "code",
   "execution_count": 8,
   "metadata": {},
   "outputs": [],
   "source": [
    "df = pd.DataFrame(X,columns = [\"X1\",\"X2\",\"X3\",\"X4\",\"X5\"])\n",
    "df['y']= y"
   ]
  },
  {
   "cell_type": "code",
   "execution_count": 10,
   "metadata": {},
   "outputs": [
    {
     "name": "stdout",
     "output_type": "stream",
     "text": [
      "Mean -1.8036511288592576\n",
      "Variance 18936.144799549744\n"
     ]
    }
   ],
   "source": [
    "print(\"Mean\",y.mean())\n",
    "print(\"Variance\",y.var())"
   ]
  },
  {
   "cell_type": "code",
   "execution_count": 12,
   "metadata": {},
   "outputs": [],
   "source": [
    "sample_size = 500\n",
    "sample = df.sample(n=sample_size,random_state =1)"
   ]
  },
  {
   "cell_type": "code",
   "execution_count": 20,
   "metadata": {},
   "outputs": [
    {
     "name": "stdout",
     "output_type": "stream",
     "text": [
      "sample v/s population mean -3.5599284800897077 -1.8036511288592616\n",
      "sample minus population mean -1.7562773512304461\n"
     ]
    }
   ],
   "source": [
    "print(\"sample v/s population mean\",sample.y.mean(),df.y.mean())\n",
    "print (\"sample minus population mean\",sample.y.mean() - df.y.mean())"
   ]
  },
  {
   "cell_type": "code",
   "execution_count": 24,
   "metadata": {},
   "outputs": [
    {
     "name": "stdout",
     "output_type": "stream",
     "text": [
      "sample v/s population mean -3.5599284800897077 -1.8036511288592616\n",
      "sample minus population mean -1.7562773512304461\n"
     ]
    }
   ],
   "source": [
    "np.random.seed(1)\n",
    "sample_y = np.random.choice(a=df['y'], size = sample_size)\n",
    "\n",
    "print(\"sample v/s population mean\",sample.y.mean(),df.y.mean())\n",
    "print (\"sample minus population mean\",sample.y.mean() - df.y.mean())"
   ]
  }
 ],
 "metadata": {
  "kernelspec": {
   "display_name": "Python 3",
   "language": "python",
   "name": "python3"
  },
  "language_info": {
   "codemirror_mode": {
    "name": "ipython",
    "version": 3
   },
   "file_extension": ".py",
   "mimetype": "text/x-python",
   "name": "python",
   "nbconvert_exporter": "python",
   "pygments_lexer": "ipython3",
   "version": "3.8.5"
  }
 },
 "nbformat": 4,
 "nbformat_minor": 4
}
